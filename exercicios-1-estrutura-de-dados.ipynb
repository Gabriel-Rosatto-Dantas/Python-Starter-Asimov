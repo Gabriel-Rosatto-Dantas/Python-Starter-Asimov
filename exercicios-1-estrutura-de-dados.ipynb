{
 "cells": [
  {
   "cell_type": "markdown",
   "metadata": {},
   "source": [
    "<img src=\"https://asimov.academy/wp-content/uploads/2021/01/logo.png\" width=\"200\"/>\n",
    "_____________________________________________\n",
    "\n",
    "## Exercícios #1 - Estruturas de dados\n"
   ]
  },
  {
   "cell_type": "markdown",
   "metadata": {},
   "source": [
    "### Exercício 1\n",
    "Utilizando o built-in method input(), crie um programa que receba a altura e o peso de uma pessoa e imprima na tela o IMC da mesma."
   ]
  },
  {
   "cell_type": "code",
   "execution_count": null,
   "metadata": {},
   "outputs": [
    {
     "name": "stdout",
     "output_type": "stream",
     "text": [
      "Por favor, insira valores numéricos válidos para altura e peso.\n"
     ]
    }
   ],
   "source": [
    "try:\n",
    "    altura: float = float(input(\"Digite a altura em metros: \"))\n",
    "    peso: float = float(input(\"Digite o peso em quilogramas: \"))\n",
    "except ValueError:\n",
    "    print(\"Por favor, insira valores numéricos válidos para altura e peso.\")\n",
    "else:\n",
    "    imc: float = peso / (altura ** 2)\n",
    "    print(f\"Seu IMC é: {imc:.2f}\")"
   ]
  },
  {
   "cell_type": "markdown",
   "metadata": {},
   "source": [
    "### Exercício 2 \n",
    "Escreva um programa que pergunte o nome completo do usuário e cumprimente o mesmo pelo primeiro nome."
   ]
  },
  {
   "cell_type": "code",
   "execution_count": null,
   "metadata": {},
   "outputs": [
    {
     "name": "stdout",
     "output_type": "stream",
     "text": [
      "Ola Gabriel!  Bem-vindo(a)!\n"
     ]
    }
   ],
   "source": [
    "nome_completo = input(\"Digite seu nome completo: \")\n",
    "primeiro_nome = nome_completo.split()[0]\n",
    "print(f'Ola {primeiro_nome}!  Bem-vindo(a)!')"
   ]
  },
  {
   "cell_type": "markdown",
   "metadata": {},
   "source": [
    "### Exercício 3\n",
    "Desenho um código que extraia o domínio de um e-mail informado."
   ]
  },
  {
   "cell_type": "code",
   "execution_count": 5,
   "metadata": {},
   "outputs": [
    {
     "name": "stdout",
     "output_type": "stream",
     "text": [
      "O dominio do seu email é: gmail.com\n"
     ]
    }
   ],
   "source": [
    "email = input(\"Digite seu email: \")\n",
    "dominio = email.split('@')[-1]\n",
    "print(f'O dominio do seu email é: {dominio}')"
   ]
  },
  {
   "cell_type": "markdown",
   "metadata": {},
   "source": [
    "### Exercício 4 \n",
    "Faça um programa para uma loja de tintas. A pessoa informa a área em m2 que deseja pintar, e o script calculará a quantidade de latas de tinta que a pessoa deve comprar e o valor. Considere que cada litro de tinta pinta 3m2, que cada lata contém 18L e que custa R$ 80."
   ]
  },
  {
   "cell_type": "code",
   "execution_count": 6,
   "metadata": {},
   "outputs": [
    {
     "name": "stdout",
     "output_type": "stream",
     "text": [
      "Você precisará de 1 latas de tinta, totalizando R$ 80.00.\n"
     ]
    }
   ],
   "source": [
    "area_pintura_m2 = float(input(\"Digite a área em metros quadrados a ser pintada: \"))\n",
    "litros_necessarios = area_pintura_m2 / 3\n",
    "latas_necessarias = -(-litros_necessarios // 18)  # arredondamento para cima\n",
    "custo_total = latas_necessarias * 80\n",
    "print(f'Você precisará de {int(latas_necessarias)} latas de tinta, totalizando R$ {custo_total:.2f}.')"
   ]
  },
  {
   "cell_type": "markdown",
   "metadata": {},
   "source": [
    "### Exercício 5\n",
    "Faça um Programa que pergunte quanto você ganha por hora e o número de horas trabalhadas no mês. Calcule e mostre o total do seu salário no referido mês, sabendo-se que são descontados 11% para o Imposto de Renda, 8% para o INSS e 5% para o sindicato, faça um programa que nos dê:\n",
    "1. Salário bruto.\n",
    "2. Quanto pagou ao INSS.\n",
    "3. Quanto pagou ao sindicato.\n",
    "4. O salário líquido."
   ]
  },
  {
   "cell_type": "code",
   "execution_count": 8,
   "metadata": {},
   "outputs": [
    {
     "name": "stdout",
     "output_type": "stream",
     "text": [
      "Seu salário mensal é: R$ 14400.00\n"
     ]
    }
   ],
   "source": [
    "valor_hora = float(input(\"Digite o valor da sua hora de trabalho: \"))\n",
    "horas_trabalhadas = float(input(\"Digite o número de horas trabalhadas no mês: \"))\n",
    "salario_mensal = valor_hora * horas_trabalhadas\n",
    "print(f'Seu salário mensal é: R$ {salario_mensal:.2f}')"
   ]
  }
 ],
 "metadata": {
  "kernelspec": {
   "display_name": "Python 3",
   "language": "python",
   "name": "python3"
  },
  "language_info": {
   "codemirror_mode": {
    "name": "ipython",
    "version": 3
   },
   "file_extension": ".py",
   "mimetype": "text/x-python",
   "name": "python",
   "nbconvert_exporter": "python",
   "pygments_lexer": "ipython3",
   "version": "3.12.12"
  }
 },
 "nbformat": 4,
 "nbformat_minor": 4
}
